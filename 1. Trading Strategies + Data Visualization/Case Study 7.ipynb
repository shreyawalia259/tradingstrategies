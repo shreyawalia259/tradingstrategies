{
 "cells": [
  {
   "cell_type": "markdown",
   "metadata": {},
   "source": [
    "## Making a Stock Screener with Python!\n",
    "\n",
    "* Link: https://towardsdatascience.com/making-a-stock-screener-with-python-4f591b198261\n",
    "* Summary: Uses 7 different conidtions on stocks current values to return a dataframe which shows all the stocks that passed or meet the requirements.\n",
    "\n",
    "### Screen Criteria:\n",
    "1. The current price of the security must be greater than the 150 and 200-day simple moving averages.\n",
    "2. The 150-day simple moving average must be greater than the 200-day simple moving average.\n",
    "3. The 200-day simple moving average must be trending up for at least 1 month.\n",
    "4. The 50-day simple moving average must be greater than the 150 simple moving average and the 200 simple moving average.\n",
    "5. The current price must be greater than the 50-day simple moving average.\n",
    "6. The current price must be at least 30% above the 52 week low.\n",
    "7. The current price must be within 25% of the 52 week high.\n",
    "8. The IBD RS-Rating must be greater than 70 (the higher, the better). The RS rating is a metric of a stock’s price performance over the last year compared to all other stocks and the overall market. Check out this article to learn more."
   ]
  },
  {
   "cell_type": "code",
   "execution_count": 1,
   "metadata": {},
   "outputs": [],
   "source": [
    "from pandas_datareader import data as pdr\n",
    "from yahoo_fin import stock_info as si\n",
    "from pandas import ExcelWriter\n",
    "import yfinance as yf\n",
    "import pandas as pd\n",
    "import datetime\n",
    "import time\n",
    "yf.pdr_override()"
   ]
  },
  {
   "cell_type": "markdown",
   "metadata": {},
   "source": [
    "First, we define all our variables.\n",
    "* tickers : All of the tickers in the S&P 500\n",
    "* index_name : S&P 500 Yahoo Finance symbol\n",
    "* start_date : The beginning date for historical data (exactly one year ago)\n",
    "* end_date : The end date for historical data (today)\n",
    "* exportList : The values we will be collecting for each stock\n",
    "* returns_multiples : A list to see how each stock performed relative to the market (will be used for calculating the RS rating)"
   ]
  },
  {
   "cell_type": "code",
   "execution_count": 2,
   "metadata": {},
   "outputs": [],
   "source": [
    "tickers = si.tickers_sp500()\n",
    "tickers = [item.replace(\".\", \"-\") for item in tickers] # Yahoo Finance uses dashes instead of dots\n",
    "index_name = '^GSPC' # S&P 500\n",
    "start_date = datetime.datetime.now() - datetime.timedelta(days=365)\n",
    "end_date = datetime.date.today()\n",
    "exportList = pd.DataFrame(columns=['Stock', \"RS_Rating\", \"50 Day MA\", \"150 Day Ma\", \"200 Day MA\", \"52 Week Low\", \"52 week High\"])\n",
    "returns_multiples = []"
   ]
  },
  {
   "cell_type": "markdown",
   "metadata": {},
   "source": [
    "Now, we can calculate the cumulative return of the S&P 500 index over the past year and compare that value to the cumulative return for each stock in the S&P 500 during the same period."
   ]
  },
  {
   "cell_type": "code",
   "execution_count": null,
   "metadata": {},
   "outputs": [],
   "source": [
    "index_df = pdr.get_data_yahoo(index_name, start_date, end_date)\n",
    "index_df['Percent Change'] = index_df['Adj Close'].pct_change()\n",
    "index_return = (index_df['Percent Change'] + 1).cumprod()[-1]"
   ]
  },
  {
   "cell_type": "markdown",
   "metadata": {},
   "source": [
    "After we get the S&P 500 index returns, we compare it to all the stocks to find the top 30% compared to the S&P 500 index."
   ]
  },
  {
   "cell_type": "code",
   "execution_count": null,
   "metadata": {},
   "outputs": [],
   "source": [
    "for ticker in tickers:\n",
    "    # Download historical data as CSV for each stock (makes the process faster)\n",
    "    df = pdr.get_data_yahoo(ticker, start_date, end_date)\n",
    "    df.to_csv(f'{ticker}.csv')\n",
    "\n",
    "    # Calculating returns relative to the market (returns multiple)\n",
    "    df['Percent Change'] = df['Adj Close'].pct_change()\n",
    "    stock_return = (df['Percent Change'] + 1).cumprod()[-1]\n",
    "    \n",
    "    returns_multiple = round((stock_return / index_return), 2)\n",
    "    returns_multiples.extend([returns_multiple])\n",
    "    \n",
    "    \n",
    "    time.sleep(1)"
   ]
  },
  {
   "cell_type": "markdown",
   "metadata": {},
   "source": [
    "Once, we find the top 30%, we can store those stocks in a dataframe. "
   ]
  },
  {
   "cell_type": "code",
   "execution_count": 5,
   "metadata": {},
   "outputs": [],
   "source": [
    "rs_df = pd.DataFrame(list(zip(tickers, returns_multiples)), columns=['Ticker', 'Returns_multiple'])\n",
    "rs_df['RS_Rating'] = rs_df.Returns_multiple.rank(pct=True) * 100\n",
    "rs_df = rs_df[rs_df.RS_Rating >= rs_df.RS_Rating.quantile(.70)]"
   ]
  },
  {
   "cell_type": "markdown",
   "metadata": {},
   "source": [
    "Finally, taking the top 30% stocks, we check each of the stocks included against the 7 conditions listed to screen them further and know which one passes all 7. "
   ]
  },
  {
   "cell_type": "code",
   "execution_count": 6,
   "metadata": {},
   "outputs": [],
   "source": [
    "rs_stocks = rs_df['Ticker']\n",
    "for stock in rs_stocks:    \n",
    "    try:\n",
    "        df = pd.read_csv(f'{stock}.csv', index_col=0)\n",
    "        sma = [50, 150, 200]\n",
    "        for x in sma:\n",
    "            df[\"SMA_\"+str(x)] = round(df['Adj Close'].rolling(window=x).mean(), 2)\n",
    "        \n",
    "        # Storing required values \n",
    "        currentClose = df[\"Adj Close\"][-1]\n",
    "        moving_average_50 = df[\"SMA_50\"][-1]\n",
    "        moving_average_150 = df[\"SMA_150\"][-1]\n",
    "        moving_average_200 = df[\"SMA_200\"][-1]\n",
    "        low_of_52week = round(min(df[\"Low\"][-260:]), 2)\n",
    "        high_of_52week = round(max(df[\"High\"][-260:]), 2)\n",
    "        RS_Rating = round(rs_df[rs_df['Ticker']==stock].RS_Rating.tolist()[0])\n",
    "        \n",
    "        try:\n",
    "            moving_average_200_20 = df[\"SMA_200\"][-20]\n",
    "        except Exception:\n",
    "            moving_average_200_20 = 0\n",
    "\n",
    "        # Condition 1: Current Price > 150 SMA and > 200 SMA\n",
    "        condition_1 = currentClose > moving_average_150 > moving_average_200\n",
    "        \n",
    "        # Condition 2: 150 SMA and > 200 SMA\n",
    "        condition_2 = moving_average_150 > moving_average_200\n",
    "\n",
    "        # Condition 3: 200 SMA trending up for at least 1 month\n",
    "        condition_3 = moving_average_200 > moving_average_200_20\n",
    "        \n",
    "        # Condition 4: 50 SMA> 150 SMA and 50 SMA> 200 SMA\n",
    "        condition_4 = moving_average_50 > moving_average_150 > moving_average_200\n",
    "           \n",
    "        # Condition 5: Current Price > 50 SMA\n",
    "        condition_5 = currentClose > moving_average_50\n",
    "           \n",
    "        # Condition 6: Current Price is at least 30% above 52 week low\n",
    "        condition_6 = currentClose >= (1.3*low_of_52week)\n",
    "           \n",
    "        # Condition 7: Current Price is within 25% of 52 week high\n",
    "        condition_7 = currentClose >= (.75*high_of_52week)\n",
    "        \n",
    "        # If all conditions above are true, add stock to exportList\n",
    "        if(condition_1 and condition_2 and condition_3 and condition_4 and condition_5 and condition_6 and condition_7):\n",
    "            exportList = exportList.append({'Stock': stock, \"RS_Rating\": RS_Rating ,\"50 Day MA\": moving_average_50, \"150 Day Ma\": moving_average_150, \"200 Day MA\": moving_average_200, \"52 Week Low\": low_of_52week, \"52 week High\": high_of_52week}, ignore_index=True)\n",
    "    except Exception as e:\n",
    "        print (e)\n",
    "        print(f\"Could not gather data on {stock}\")"
   ]
  },
  {
   "cell_type": "markdown",
   "metadata": {},
   "source": [
    "Lastly, we download the stocks to an excel file for convenience. To do this we sort our export list and then export the list to excel using Excel Writer.\n",
    "\n",
    "Printing the exportList shows us what the coloumns in the Excel File look like, this can be seen in the ouput below the code. "
   ]
  },
  {
   "cell_type": "code",
   "execution_count": 7,
   "metadata": {},
   "outputs": [
    {
     "name": "stdout",
     "output_type": "stream",
     "text": [
      "\n",
      "      Stock RS_Rating  50 Day MA  150 Day Ma  200 Day MA  52 Week Low  \\\n",
      "23     CZR       100      91.25       74.75       66.76        16.91   \n",
      "64      LB       100      59.53       45.31       40.46        10.03   \n",
      "35     FCX        99      35.06       27.02       23.90         7.81   \n",
      "46     GPS        99      29.19       23.55       21.39         6.54   \n",
      "125   TSLA        99     692.07      629.33      561.60       136.61   \n",
      "..     ...       ...        ...         ...         ...          ...   \n",
      "14     BWA        71      47.13       41.80       41.20        25.17   \n",
      "45   GOOGL        70    2127.68     1858.88     1778.86      1296.01   \n",
      "38     FRC        70     170.42      147.04      138.37        92.13   \n",
      "83    MXIM        70      92.65       85.50       81.21        50.77   \n",
      "98     PNC        70     174.71      146.37      136.28        93.27   \n",
      "\n",
      "     52 week High  \n",
      "23         106.20  \n",
      "64          68.29  \n",
      "35          39.84  \n",
      "46          34.82  \n",
      "125        900.40  \n",
      "..            ...  \n",
      "14          51.88  \n",
      "45        2324.53  \n",
      "38         182.51  \n",
      "83          98.48  \n",
      "98         184.33  \n",
      "\n",
      "[137 rows x 7 columns]\n"
     ]
    }
   ],
   "source": [
    "exportList = exportList.sort_values(by='RS_Rating', ascending=False)\n",
    "print('\\n', exportList)\n",
    "writer = ExcelWriter(\"ScreenOutput.xlsx\")\n",
    "exportList.to_excel(writer, \"Sheet1\")\n",
    "writer.save()"
   ]
  }
 ],
 "metadata": {
  "kernelspec": {
   "display_name": "Python 3",
   "language": "python",
   "name": "python3"
  },
  "language_info": {
   "codemirror_mode": {
    "name": "ipython",
    "version": 3
   },
   "file_extension": ".py",
   "mimetype": "text/x-python",
   "name": "python",
   "nbconvert_exporter": "python",
   "pygments_lexer": "ipython3",
   "version": "3.8.5"
  }
 },
 "nbformat": 4,
 "nbformat_minor": 4
}
