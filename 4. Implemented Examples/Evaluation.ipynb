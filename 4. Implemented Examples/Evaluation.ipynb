{
 "cells": [
  {
   "cell_type": "markdown",
   "metadata": {},
   "source": [
    "Importing important libraries to get the Discounted Cash Flow (DCF) of a company. "
   ]
  },
  {
   "cell_type": "code",
   "execution_count": 8,
   "metadata": {},
   "outputs": [],
   "source": [
    "import numpy as np\n",
    "import pandas as pd"
   ]
  },
  {
   "cell_type": "markdown",
   "metadata": {},
   "source": [
    "Populating our sales series from 2019 to 2024. Since we only use 2019 data, we enter that data and work towards our goal of adding sales data for following years using growth rate for that year."
   ]
  },
  {
   "cell_type": "code",
   "execution_count": 9,
   "metadata": {},
   "outputs": [
    {
     "name": "stderr",
     "output_type": "stream",
     "text": [
      "<ipython-input-9-8fd422aacd4c>:2: DeprecationWarning: The default dtype for empty Series will be 'object' instead of 'float64' in a future version. Specify a dtype explicitly to silence this warning.\n",
      "  sales = pd.Series(index=years)\n"
     ]
    },
    {
     "data": {
      "text/plain": [
       "2019A    15.0\n",
       "2020F     NaN\n",
       "2021F     NaN\n",
       "2022F     NaN\n",
       "2023F     NaN\n",
       "2024F     NaN\n",
       "dtype: float64"
      ]
     },
     "execution_count": 9,
     "metadata": {},
     "output_type": "execute_result"
    }
   ],
   "source": [
    "years=['2019A', '2020F', '2021F', '2022F', '2023F', '2024F']\n",
    "sales = pd.Series(index=years)\n",
    "sales['2019A'] = 15\n",
    "sales"
   ]
  },
  {
   "cell_type": "markdown",
   "metadata": {},
   "source": [
    "We set the growth rate to be 0.1"
   ]
  },
  {
   "cell_type": "code",
   "execution_count": 10,
   "metadata": {},
   "outputs": [],
   "source": [
    "growth_rate = 0.1"
   ]
  },
  {
   "cell_type": "markdown",
   "metadata": {},
   "source": [
    "Next, we create a loop to populate the following for each year->\n",
    "* Sales\n",
    "* EBIT- Operating Income\n",
    "* Tax Expense\n",
    "* NOPAT\n",
    "* D&A Expense\n",
    "* Capital Expenditures\n",
    "* Increase in NWC\n",
    "* Free Cash Flow\n",
    "\n",
    "These will help us calculate the DCF. "
   ]
  },
  {
   "cell_type": "markdown",
   "metadata": {},
   "source": [
    "First we add the sales, using sales from previous year * growth rate"
   ]
  },
  {
   "cell_type": "code",
   "execution_count": 11,
   "metadata": {},
   "outputs": [],
   "source": [
    "for year in range(1,6):\n",
    "    sales[year] = sales[year-1] * (1+growth_rate)"
   ]
  },
  {
   "cell_type": "markdown",
   "metadata": {},
   "source": [
    "Next, we work on getting the operating income. Using the ebit margin and depreciation rate, we can get calculate the operating income. These will have to be changed according to company that is being evaluated. "
   ]
  },
  {
   "cell_type": "code",
   "execution_count": 12,
   "metadata": {},
   "outputs": [],
   "source": [
    "    ebitda_margin = 0.20\n",
    "    depr_percent = 0.03\n",
    "    ebitda = sales * ebitda_margin\n",
    "    depreciation = sales * depr_percent\n",
    "    ebit = ebitda - depreciation"
   ]
  },
  {
   "cell_type": "markdown",
   "metadata": {},
   "source": [
    "Then, we will calculate tax payments. Using the tax rate, we can get tax payment by taxing operating income and factoring in the tax rate on that income. "
   ]
  },
  {
   "cell_type": "code",
   "execution_count": 13,
   "metadata": {},
   "outputs": [],
   "source": [
    "\n",
    "    tax_rate = 0.30\n",
    "    tax_payment = -ebit * tax_rate\n",
    "    tax_payment = tax_payment.apply(lambda x: min(x,0))"
   ]
  },
  {
   "cell_type": "markdown",
   "metadata": {},
   "source": [
    "We can then get the Net Operating Income after Taxes(NOPAT) by taking our operating income and adding our tax payment to it."
   ]
  },
  {
   "cell_type": "code",
   "execution_count": 14,
   "metadata": {},
   "outputs": [],
   "source": [
    "    nopat = ebit + tax_payment"
   ]
  },
  {
   "cell_type": "markdown",
   "metadata": {},
   "source": [
    "Next, we will working on getting the Net Working Capital(NWC). \n",
    "* For the purpose of this evaluation, we only care about the change in NWC.\n",
    "So we calculate the change by taking current NWC as a percent of sales and then taking the difference from the previous year. "
   ]
  },
  {
   "cell_type": "code",
   "execution_count": 15,
   "metadata": {},
   "outputs": [],
   "source": [
    "    nwc_percent = 0.24\n",
    "    nwc = sales * nwc_percent\n",
    "    change_in_nwc = nwc.shift(1) - nwc"
   ]
  },
  {
   "cell_type": "markdown",
   "metadata": {},
   "source": [
    "* Now get the Capital Expenditures (Capex) by taking a negative value since it is an expense and then taking the depreciation percent from sales. \n",
    "* We do this because in the long run, companies capital expenditures should equal the depreciation expense. "
   ]
  },
  {
   "cell_type": "code",
   "execution_count": 16,
   "metadata": {},
   "outputs": [],
   "source": [
    "    capex_percent = depr_percent\n",
    "    capex = -(sales * capex_percent)"
   ]
  },
  {
   "cell_type": "markdown",
   "metadata": {},
   "source": [
    "Finally we calculate our free cash flow before we can get the DCF."
   ]
  },
  {
   "cell_type": "code",
   "execution_count": 17,
   "metadata": {},
   "outputs": [],
   "source": [
    "    free_cash_flow = nopat + depreciation + capex + change_in_nwc"
   ]
  },
  {
   "cell_type": "markdown",
   "metadata": {},
   "source": [
    "**Getting the DCF**\n",
    "A DCF has a near-future component and a long-term future component. The near-future part is the 5 years that we have calculated above, and the long-term part is perpetuity calculated using the 5th forecasted year’s FCF as a base into the future. This larger lump sum is called the Terminal Value.\n",
    "\n",
    "**Terminal Value**\n",
    "Terminal value is calculated using the last year’s FCF forecast after applying the terminal growth rate of 2%, essentially giving us the 6th year’s FCF. We apply the discount factor, a number ranging from 0 to 1, to each of the numbers, and summing the 5 year PV FCF amounts with the PV of the terminal value\n",
    "\n",
    "\n",
    "**Note**: DCF Value is returned in millions"
   ]
  },
  {
   "cell_type": "code",
   "execution_count": 18,
   "metadata": {},
   "outputs": [
    {
     "data": {
      "text/plain": [
       "25.874659090909088"
      ]
     },
     "execution_count": 18,
     "metadata": {},
     "output_type": "execute_result"
    }
   ],
   "source": [
    "    cost_of_capital = 0.10\n",
    "    terminal_growth = 0.02\n",
    "    terminal_value = ((free_cash_flow[-1] * (1 + terminal_growth))/\n",
    "\t                 (cost_of_capital - terminal_growth))\n",
    "    discount_factors = [(1 / (1 + cost_of_capital)) ** i for i in range (1,6)]\n",
    "    dcf_value = (sum(free_cash_flow[1:]*discount_factors) +\n",
    "\t            terminal_value * discount_factors[-1])\n",
    "    dcf_value"
   ]
  },
  {
   "cell_type": "markdown",
   "metadata": {},
   "source": [
    "Lastly, we can export the dataframe of the values used to calculate DCF into excel"
   ]
  },
  {
   "cell_type": "code",
   "execution_count": 19,
   "metadata": {},
   "outputs": [
    {
     "name": "stdout",
     "output_type": "stream",
     "text": [
      "                      2019A  2020F  2021F  2022F  2023F  2024F\n",
      "Sales                 15.00  16.50  18.15  19.97  21.96  24.16\n",
      "EBIT                   2.55   2.80   3.09   3.39   3.73   4.11\n",
      "Tax Expense           -0.76  -0.84  -0.93  -1.02  -1.12  -1.23\n",
      "NOPAT                  1.78   1.96   2.16   2.38   2.61   2.87\n",
      "D&A Expense            0.45   0.50   0.54   0.60   0.66   0.72\n",
      "Capital Expenditures  -0.45  -0.50  -0.54  -0.60  -0.66  -0.72\n",
      "Increase in NWC         NaN  -0.36  -0.40  -0.44  -0.48  -0.53\n",
      "Free Cash Flow          NaN   1.60   1.76   1.94   2.13   2.35\n"
     ]
    }
   ],
   "source": [
    "output = pd.DataFrame([sales, ebit, tax_payment, nopat, \n",
    "                       depreciation, capex, change_in_nwc,\n",
    "                       free_cash_flow],\n",
    "                     index=[\"Sales\", \"EBIT\", \"Tax Expense\", \n",
    "                            \"NOPAT\", \"D&A Expense\",\n",
    "                            \"Capital Expenditures\",\n",
    "                            \"Increase in NWC\",\n",
    "                            \"Free Cash Flow\"]).round(2)\n",
    "print(output)"
   ]
  },
  {
   "cell_type": "code",
   "execution_count": null,
   "metadata": {},
   "outputs": [],
   "source": []
  }
 ],
 "metadata": {
  "kernelspec": {
   "display_name": "Python 3",
   "language": "python",
   "name": "python3"
  },
  "language_info": {
   "codemirror_mode": {
    "name": "ipython",
    "version": 3
   },
   "file_extension": ".py",
   "mimetype": "text/x-python",
   "name": "python",
   "nbconvert_exporter": "python",
   "pygments_lexer": "ipython3",
   "version": "3.8.5"
  }
 },
 "nbformat": 4,
 "nbformat_minor": 4
}
